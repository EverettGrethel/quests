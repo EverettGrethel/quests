{
 "cells": [
  {
   "cell_type": "code",
   "execution_count": 2,
   "id": "f1da6005",
   "metadata": {},
   "outputs": [
    {
     "name": "stdout",
     "output_type": "stream",
     "text": [
      "warning: fast C maxvol functions are not compiled, continue with python maxvol functions\n"
     ]
    }
   ],
   "source": [
    "import numpy as np\n",
    "\n",
    "from ase import Atoms\n",
    "from ase.io import read, write\n",
    "\n",
    "from pyace import create_multispecies_basis_config\n",
    "from pyace.activelearning import compute_B_projections"
   ]
  },
  {
   "cell_type": "code",
   "execution_count": 9,
   "id": "cce5cebf",
   "metadata": {},
   "outputs": [],
   "source": [
    "basis_config = {\n",
    "  \"deltaSplineBins\": 0.001,\n",
    "  \"elements\": ['Au'],\n",
    "\n",
    "  \"embeddings\": {\n",
    "    \"ALL\": {\n",
    "      \"npot\": 'FinnisSinclairShiftedScaled', # ?\n",
    "      \"fs_parameters\": [ 1, 1],\n",
    "      \"ndensity\": 1, # ?\n",
    "    },\n",
    "  },\n",
    "\n",
    "  \"bonds\": {\n",
    "    \"ALL\": {\n",
    "      \"radbase\": \"SBessel\",\n",
    "      \"radparameters\": [ 5.25 ],\n",
    "      \"rcut\": 6, # ?\n",
    "      \"dcut\": 0.01, # ?\n",
    "    }\n",
    "  },\n",
    "\n",
    "  \"functions\": {\n",
    "    # \"number_of_functions_per_element\": 1000,\n",
    "    \"ALL\": {\n",
    "        \"nradmax_by_orders\": [ 8,8,6],\n",
    "        \"lmax_by_orders\"   : [ 0,6,4] }\n",
    "  }\n",
    "}"
   ]
  },
  {
   "cell_type": "code",
   "execution_count": 10,
   "id": "6eb78d68",
   "metadata": {},
   "outputs": [
    {
     "data": {
      "text/plain": [
       "BBasisConfiguration(deltaSplineBins=0.001, funcspecs_blocks=['Au', ])"
      ]
     },
     "execution_count": 10,
     "metadata": {},
     "output_type": "execute_result"
    }
   ],
   "source": [
    "basis = create_multispecies_basis_config(basis_config)\n",
    "basis"
   ]
  },
  {
   "cell_type": "markdown",
   "id": "ba0ab90d",
   "metadata": {},
   "source": [
    "### Compare FCC structures with 1% strain and unstrained"
   ]
  },
  {
   "cell_type": "code",
   "execution_count": 11,
   "id": "080eaa25",
   "metadata": {},
   "outputs": [
    {
     "name": "stdout",
     "output_type": "stream",
     "text": [
      "95.45151481769105\n"
     ]
    }
   ],
   "source": [
    "from ase.build import bulk, make_supercell\n",
    "import numpy as np\n",
    "\n",
    "a1 = 3.58\n",
    "supercell = 1\n",
    "fcc1 = bulk('Au', 'fcc', a=a1, cubic=True)\n",
    "\n",
    "fcc2 = fcc1.copy()\n",
    "fcc2.set_cell(0.99 * fcc2.cell, scale_atoms=True)\n",
    "\n",
    "# fcc1 = make_supercell(fcc1, np.eye(3) * supercell)\n",
    "# fcc2 = make_supercell(fcc2, np.eye(3) * supercell)\n",
    "\n",
    "x1 = compute_B_projections(basis, [fcc1])[0]\n",
    "x2 = compute_B_projections(basis, [fcc2])[0]\n",
    "\n",
    "distance = np.linalg.norm(x1 - x2)\n",
    "print(distance)"
   ]
  }
 ],
 "metadata": {
  "kernelspec": {
   "display_name": "quests_py311",
   "language": "python",
   "name": "python3"
  },
  "language_info": {
   "codemirror_mode": {
    "name": "ipython",
    "version": 3
   },
   "file_extension": ".py",
   "mimetype": "text/x-python",
   "name": "python",
   "nbconvert_exporter": "python",
   "pygments_lexer": "ipython3",
   "version": "3.11.13"
  }
 },
 "nbformat": 4,
 "nbformat_minor": 5
}
