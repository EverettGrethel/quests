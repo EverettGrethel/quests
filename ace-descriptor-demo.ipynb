{
 "cells": [
  {
   "cell_type": "code",
   "execution_count": null,
   "id": "f1da6005",
   "metadata": {},
   "outputs": [
    {
     "ename": "",
     "evalue": "",
     "output_type": "error",
     "traceback": [
      "\u001b[1;31mThe kernel failed to start as the Python Environment 'Python 3.12.3' is no longer available. Consider selecting another kernel or refreshing the list of Python Environments."
     ]
    }
   ],
   "source": [
    "from ase import Atoms\n",
    "from ase.io import read, write\n",
    "\n",
    "from pyace import create_multispecies_basis_config\n",
    "from pyace.activelearning import compute_B_projections"
   ]
  },
  {
   "cell_type": "code",
   "execution_count": null,
   "id": "cce5cebf",
   "metadata": {},
   "outputs": [],
   "source": [
    "basis_config = {\n",
    "  \"deltaSplineBins\": 0.001,\n",
    "  \"elements\": ['Cu'],\n",
    "\n",
    "  \"embeddings\": {\n",
    "    \"ALL\": {\n",
    "      \"npot\": 'FinnisSinclairShiftedScaled',\n",
    "      \"fs_parameters\": [ 1, 1],\n",
    "      \"ndensity\": 1,\n",
    "    },\n",
    "  },\n",
    "\n",
    "  \"bonds\": {\n",
    "    \"ALL\": {\n",
    "      \"radbase\": \"SBessel\",\n",
    "      \"radparameters\": [ 5.25 ],\n",
    "      \"rcut\": 6,\n",
    "      \"dcut\": 0.01,\n",
    "    }\n",
    "  },\n",
    "\n",
    "  \"functions\": {\n",
    "    # \"number_of_functions_per_element\": 1000,\n",
    "    \"ALL\": {\n",
    "        \"nradmax_by_orders\": [ 8,8,6],\n",
    "        \"lmax_by_orders\"   : [ 0,6,4] }\n",
    "  }\n",
    "}"
   ]
  },
  {
   "cell_type": "code",
   "execution_count": null,
   "id": "6eb78d68",
   "metadata": {},
   "outputs": [],
   "source": [
    "basis = create_multispecies_basis_config(basis_config)\n",
    "basis"
   ]
  },
  {
   "cell_type": "code",
   "execution_count": null,
   "id": "dc586eb8",
   "metadata": {},
   "outputs": [],
   "source": [
    "ace_list = []\n",
    "with open('/p/lustre2/samanta1/Cu/step10_PotFit/test1/list20.txt') as f1:\n",
    "    for l1 in f1.readlines():\n",
    "        cfg1 = read(l1.split()[1] + '/OUTCAR')\n",
    "        dscrptr_ace = compute_B_projections(basis, atomic_env_list=[cfg1])\n",
    "        ace_list += list(dscrptr_ace[0])\n"
   ]
  },
  {
   "cell_type": "code",
   "execution_count": null,
   "id": "29e24381",
   "metadata": {},
   "outputs": [],
   "source": [
    "import numpy as np\n",
    "       \n",
    "ace_2d = np.array(ace_list)        \n",
    "ace_2d.shape\n",
    "print(ace_2d.shape)\n"
   ]
  },
  {
   "cell_type": "code",
   "execution_count": null,
   "id": "97130733",
   "metadata": {},
   "outputs": [],
   "source": [
    "np.savetxt('ace_array_Cu_nrad886_lmax064.txt', ace_2d, delimiter=' ')"
   ]
  }
 ],
 "metadata": {
  "kernelspec": {
   "display_name": "quests_py311",
   "language": "python",
   "name": "python3"
  },
  "language_info": {
   "name": "python",
   "version": "3.11.13"
  }
 },
 "nbformat": 4,
 "nbformat_minor": 5
}
