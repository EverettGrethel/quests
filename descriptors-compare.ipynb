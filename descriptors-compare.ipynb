{
 "cells": [
  {
   "cell_type": "code",
   "execution_count": 1,
   "id": "b3405820",
   "metadata": {},
   "outputs": [],
   "source": [
    "from ase.io import read\n",
    "from quests.descriptor import get_descriptors\n",
    "from quests.entropy import perfect_entropy, diversity"
   ]
  },
  {
   "cell_type": "code",
   "execution_count": 3,
   "id": "7863eb0e",
   "metadata": {},
   "outputs": [],
   "source": [
    "data_name = \"Graphite\"\n",
    "# data_name = \"Diamond\"\n",
    "# data_name = \"Graphene\"\n",
    "# data_name = \"Nanotubes\"\n",
    "path = f\"/home/evere/dev/quests/examples/gap20/{data_name}.xyz\"\n",
    "frames_list = read(path, index=\":\")"
   ]
  },
  {
   "cell_type": "code",
   "execution_count": 4,
   "id": "44c929a1",
   "metadata": {},
   "outputs": [],
   "source": [
    "x = get_descriptors(frames_list, k=32, cutoff=5.0)"
   ]
  },
  {
   "cell_type": "code",
   "execution_count": 5,
   "id": "12e087a2",
   "metadata": {},
   "outputs": [
    {
     "name": "stdout",
     "output_type": "stream",
     "text": [
      "5.6085074467370095\n",
      "6.250767982075376\n"
     ]
    }
   ],
   "source": [
    "h = 0.015\n",
    "batch_size = 10000\n",
    "H = perfect_entropy(x, h=h, batch_size=batch_size)\n",
    "D = diversity(x, h=h, batch_size=batch_size)\n",
    "print(H)\n",
    "print(D)"
   ]
  },
  {
   "cell_type": "markdown",
   "id": "aecf9bfd",
   "metadata": {},
   "source": [
    "### Compare FCC structures with 1% strain and unstrained"
   ]
  },
  {
   "cell_type": "code",
   "execution_count": 23,
   "id": "060e1bd0",
   "metadata": {},
   "outputs": [
    {
     "name": "stdout",
     "output_type": "stream",
     "text": [
      "0.055155477876466824\n"
     ]
    }
   ],
   "source": [
    "from ase.build import bulk, make_supercell\n",
    "import numpy as np\n",
    "\n",
    "a1 = 3.58\n",
    "supercell = 1\n",
    "fcc1 = bulk('Au', 'fcc', a=a1, cubic=True)\n",
    "\n",
    "fcc2 = fcc1.copy()\n",
    "fcc2.set_cell(0.99 * fcc2.cell, scale_atoms=True)\n",
    "\n",
    "# fcc1 = make_supercell(fcc1, np.eye(3) * supercell)\n",
    "# fcc2 = make_supercell(fcc2, np.eye(3) * supercell)\n",
    "\n",
    "x1 = get_descriptors([fcc1], k=32, cutoff=5.0)\n",
    "x2 = get_descriptors([fcc2], k=32, cutoff=5.0)\n",
    "\n",
    "distance = np.linalg.norm(x1 - x2)\n",
    "print(distance)"
   ]
  },
  {
   "cell_type": "markdown",
   "id": "59585ef0",
   "metadata": {},
   "source": [
    "### Compute entropy with cross-validation"
   ]
  },
  {
   "cell_type": "code",
   "execution_count": null,
   "id": "b52eb20f",
   "metadata": {},
   "outputs": [
    {
     "name": "stdout",
     "output_type": "stream",
     "text": [
      "train\n",
      "[  0   1   2   3   4   5   6   9  10  11  12  13  14  15  17  20  21  23\n",
      "  25  28  29  30  31  32  34  35  36  38  39  41  42  43  46  47  48  49\n",
      "  50  52  53  57  58  64  65  67  68  69  70  71  72  73  75  76  77  78\n",
      "  79  81  82  83  84  87  88  89  91  93  94  96  99 100 102 103 104 105\n",
      " 106 107 108 113 114 115 116 117 123 124 125 126 127 129 130 132 134 137\n",
      " 138 139 140 141 142 144 148 149 150 152 153 154 155 156 158 159]\n",
      "test\n",
      "[  7   8  16  18  19  22  24  26  27  33  37  40  44  45  51  54  55  56\n",
      "  59  60  61  62  63  66  74  80  85  86  90  92  95  97  98 101 109 110\n",
      " 111 112 118 119 120 121 122 128 131 133 135 136 143 145 146 147 151 157]\n",
      "Fold 0 train\n",
      "5.428554636835005\n",
      "6.082262016700815\n",
      "Fold 0 test\n",
      "5.42366940317182\n",
      "5.9775183504244165\n",
      "train\n",
      "[  0   1   4   5   7   8   9  16  17  18  19  21  22  24  25  26  27  28\n",
      "  29  31  32  33  34  36  37  38  39  40  41  42  44  45  47  51  53  54\n",
      "  55  56  57  58  59  60  61  62  63  65  66  67  70  72  74  77  79  80\n",
      "  81  82  85  86  87  88  90  92  95  97  98  99 101 103 104 105 109 110\n",
      " 111 112 114 115 116 117 118 119 120 121 122 126 127 128 130 131 133 134\n",
      " 135 136 138 140 143 145 146 147 148 149 150 151 152 153 155 156 157]\n",
      "test\n",
      "[  2   3   6  10  11  12  13  14  15  20  23  30  35  43  46  48  49  50\n",
      "  52  64  68  69  71  73  75  76  78  83  84  89  91  93  94  96 100 102\n",
      " 106 107 108 113 123 124 125 129 132 137 139 141 142 144 154 158 159]\n",
      "Fold 1 train\n",
      "5.530353799049051\n",
      "6.165162092899538\n",
      "Fold 1 test\n",
      "5.234655622189599\n",
      "5.824535916358426\n",
      "train\n",
      "[  2   3   6   7   8  10  11  12  13  14  15  16  18  19  20  22  23  24\n",
      "  26  27  30  33  35  37  40  43  44  45  46  48  49  50  51  52  54  55\n",
      "  56  59  60  61  62  63  64  66  68  69  71  73  74  75  76  78  80  83\n",
      "  84  85  86  89  90  91  92  93  94  95  96  97  98 100 101 102 106 107\n",
      " 108 109 110 111 112 113 118 119 120 121 122 123 124 125 128 129 131 132\n",
      " 133 135 136 137 139 141 142 143 144 145 146 147 151 154 157 158 159]\n",
      "test\n",
      "[  0   1   4   5   9  17  21  25  28  29  31  32  34  36  38  39  41  42\n",
      "  47  53  57  58  65  67  70  72  77  79  81  82  87  88  99 103 104 105\n",
      " 114 115 116 117 126 127 130 134 138 140 148 149 150 152 153 155 156]\n",
      "Fold 2 train\n",
      "5.559599029344241\n",
      "6.144446208911961\n",
      "Fold 2 test\n",
      "5.161532385229707\n",
      "5.855682864732768\n"
     ]
    }
   ],
   "source": [
    "from sklearn.model_selection import KFold\n",
    "\n",
    "path = \"/home/evere/dev/quests/examples/gap20/Graphite.xyz\"\n",
    "frames_list = read(path, index=\":\")\n",
    "\n",
    "frame_indices = list(range(len(frames_list)))\n",
    "\n",
    "kf = KFold(n_splits=3, shuffle=True, random_state=0)\n",
    "kf.get_n_splits(frame_indices)\n",
    "\n",
    "h = 0.015\n",
    "batch_size = 10000\n",
    "\n",
    "i = 0\n",
    "for train_frame_idx, test_frame_idx in kf.split(frame_indices):\n",
    "    print(\"train\")\n",
    "    print(train_frame_idx)\n",
    "    print(\"test\")\n",
    "    print(test_frame_idx)\n",
    "    atoms_train = [frames_list[i] for i in train_frame_idx]\n",
    "    atoms_test = [frames_list[i] for i in test_frame_idx]\n",
    "\n",
    "    descriptors_train = get_descriptors(atoms_train, k=32, cutoff=5.0)\n",
    "    descriptors_test = get_descriptors(atoms_test, k=32, cutoff=5.0)\n",
    "\n",
    "    H = perfect_entropy(descriptors_train, h=h, batch_size=batch_size)\n",
    "    D = diversity(descriptors_train, h=h, batch_size=batch_size)\n",
    "    print(f\"Fold {i} train\")\n",
    "    print(H)\n",
    "    print(D)\n",
    "\n",
    "    H = perfect_entropy(descriptors_test, h=h, batch_size=batch_size)\n",
    "    D = diversity(descriptors_test, h=h, batch_size=batch_size)\n",
    "    print(f\"Fold {i} test\")\n",
    "    print(H)\n",
    "    print(D)\n",
    "\n",
    "    i += 1"
   ]
  }
 ],
 "metadata": {
  "kernelspec": {
   "display_name": "quests_py311",
   "language": "python",
   "name": "python3"
  },
  "language_info": {
   "codemirror_mode": {
    "name": "ipython",
    "version": 3
   },
   "file_extension": ".py",
   "mimetype": "text/x-python",
   "name": "python",
   "nbconvert_exporter": "python",
   "pygments_lexer": "ipython3",
   "version": "3.11.13"
  }
 },
 "nbformat": 4,
 "nbformat_minor": 5
}
