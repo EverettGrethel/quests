{
 "cells": [
  {
   "cell_type": "code",
   "execution_count": 14,
   "id": "b3405820",
   "metadata": {},
   "outputs": [],
   "source": [
    "from ase.io import read\n",
    "from quests.descriptor import get_descriptors\n",
    "from quests.entropy import perfect_entropy, diversity"
   ]
  },
  {
   "cell_type": "code",
   "execution_count": 7,
   "id": "7863eb0e",
   "metadata": {},
   "outputs": [],
   "source": [
    "path = \"/home/evere/dev/quests/examples/gap20/Graphite.xyz\"\n",
    "dset = read(path, index=\":\")"
   ]
  },
  {
   "cell_type": "code",
   "execution_count": 13,
   "id": "44c929a1",
   "metadata": {},
   "outputs": [
    {
     "data": {
      "text/plain": [
       "array([0.57556934, 0.57299358, 0.57179989, 0.22022243, 0.22010826,\n",
       "       0.2186482 , 0.21845587, 0.21821318, 0.21780162, 0.14920105,\n",
       "       0.14910783, 0.14845352, 0.08352893, 0.08249553, 0.05431158,\n",
       "       0.0541021 , 0.05409719, 0.05394048, 0.05387951, 0.05374898,\n",
       "       0.04241448, 0.04226578, 0.04221397, 0.04203942, 0.04180539,\n",
       "       0.04171206, 0.01836631, 0.01826805, 0.01820735, 0.01816302,\n",
       "       0.01804828, 0.01804543, 0.25815567, 0.20919633, 0.15910877,\n",
       "       0.14999261, 0.12770991, 0.12165959, 0.11120754, 0.09776435,\n",
       "       0.09130367, 0.08798875, 0.07959666, 0.07589324, 0.07057619,\n",
       "       0.06795384, 0.0667966 , 0.06119727, 0.05939547, 0.05335903,\n",
       "       0.05170272, 0.04833442, 0.04472203, 0.04303822, 0.04159773,\n",
       "       0.03829075, 0.03698749, 0.03459231, 0.03231237, 0.03035928,\n",
       "       0.02778024, 0.02598068, 0.02291609])"
      ]
     },
     "execution_count": 13,
     "metadata": {},
     "output_type": "execute_result"
    }
   ],
   "source": [
    "x = get_descriptors(dset, k=32, cutoff=5.0)\n",
    "x[0]"
   ]
  },
  {
   "cell_type": "code",
   "execution_count": 16,
   "id": "12e087a2",
   "metadata": {},
   "outputs": [
    {
     "name": "stdout",
     "output_type": "stream",
     "text": [
      "5.6085074467370095\n",
      "6.250767982075376\n"
     ]
    }
   ],
   "source": [
    "h = 0.015\n",
    "batch_size = 10000\n",
    "H = perfect_entropy(x, h=h, batch_size=batch_size)\n",
    "D = diversity(x, h=h, batch_size=batch_size)\n",
    "print(H)\n",
    "print(D)"
   ]
  }
 ],
 "metadata": {
  "kernelspec": {
   "display_name": "quests_py311",
   "language": "python",
   "name": "python3"
  },
  "language_info": {
   "codemirror_mode": {
    "name": "ipython",
    "version": 3
   },
   "file_extension": ".py",
   "mimetype": "text/x-python",
   "name": "python",
   "nbconvert_exporter": "python",
   "pygments_lexer": "ipython3",
   "version": "3.11.13"
  }
 },
 "nbformat": 4,
 "nbformat_minor": 5
}
