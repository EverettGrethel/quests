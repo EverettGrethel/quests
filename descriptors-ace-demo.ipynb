{
 "cells": [
  {
   "cell_type": "code",
   "execution_count": 5,
   "id": "f1da6005",
   "metadata": {},
   "outputs": [
    {
     "name": "stdout",
     "output_type": "stream",
     "text": [
      "warning: fast C maxvol functions are not compiled, continue with python maxvol functions\n"
     ]
    }
   ],
   "source": [
    "import numpy as np\n",
    "\n",
    "from ase import Atoms\n",
    "from ase.io import read, write\n",
    "\n",
    "from pyace import create_multispecies_basis_config\n",
    "from pyace.activelearning import compute_B_projections"
   ]
  },
  {
   "cell_type": "code",
   "execution_count": 16,
   "id": "cce5cebf",
   "metadata": {},
   "outputs": [],
   "source": [
    "basis_config = {\n",
    "  \"deltaSplineBins\": 0.001,\n",
    "  \"elements\": ['C'],\n",
    "\n",
    "  \"embeddings\": {\n",
    "    \"ALL\": {\n",
    "      \"npot\": 'FinnisSinclairShiftedScaled', # ?\n",
    "      \"fs_parameters\": [ 1, 1],\n",
    "      \"ndensity\": 1, # ?\n",
    "    },\n",
    "  },\n",
    "\n",
    "  \"bonds\": {\n",
    "    \"ALL\": {\n",
    "      \"radbase\": \"SBessel\",\n",
    "      \"radparameters\": [ 5.25 ],\n",
    "      \"rcut\": 6, # ?\n",
    "      \"dcut\": 0.01, # ?\n",
    "    }\n",
    "  },\n",
    "\n",
    "  \"functions\": {\n",
    "    # \"number_of_functions_per_element\": 1000,\n",
    "    \"ALL\": {\n",
    "        \"nradmax_by_orders\": [ 8,8,6],\n",
    "        \"lmax_by_orders\"   : [ 0,6,4] }\n",
    "  }\n",
    "}\n"
   ]
  },
  {
   "cell_type": "code",
   "execution_count": 17,
   "id": "6eb78d68",
   "metadata": {},
   "outputs": [
    {
     "data": {
      "text/plain": [
       "BBasisConfiguration(deltaSplineBins=0.001, funcspecs_blocks=['C', ])"
      ]
     },
     "execution_count": 17,
     "metadata": {},
     "output_type": "execute_result"
    }
   ],
   "source": [
    "basis = create_multispecies_basis_config(basis_config)\n",
    "basis"
   ]
  },
  {
   "cell_type": "code",
   "execution_count": 18,
   "id": "dc586eb8",
   "metadata": {},
   "outputs": [
    {
     "data": {
      "text/plain": [
       "{0: array([[ 5.30699625,  4.87772161,  4.63383655, ...,  0.06639799,\n",
       "          0.03726733, -0.00743433],\n",
       "        [ 5.30169047,  4.8585322 ,  4.57873826, ...,  4.82295864,\n",
       "          0.13828475, -5.12933646],\n",
       "        [ 5.30288263,  4.85515545,  4.57593924, ...,  4.78332148,\n",
       "          0.13571487, -5.0994087 ],\n",
       "        ...,\n",
       "        [ 4.20097867,  1.80477498,  1.07852852, ..., -0.08517027,\n",
       "         -0.71969204,  1.91552557],\n",
       "        [ 4.20097867,  1.80477498,  1.07852852, ..., -0.08517027,\n",
       "         -0.71969204,  1.91552557],\n",
       "        [ 4.20097867,  1.80477498,  1.07852852, ..., -0.08517027,\n",
       "         -0.71969204,  1.91552557]])}"
      ]
     },
     "execution_count": 18,
     "metadata": {},
     "output_type": "execute_result"
    }
   ],
   "source": [
    "path = \"/home/evere/dev/quests/examples/gap20/Graphite.xyz\"\n",
    "atoms_list = read(path, index=\":\")\n",
    "descriptor_ace_dict = compute_B_projections(basis, atoms_list)\n",
    "descriptor_ace_dict\n",
    "\n",
    "# # /p/lustre2/samanta1/Cu/step10_PotFit/test1/list20.txt\n",
    "# with open(path) as f1:\n",
    "#     for l1 in f1.readlines():\n",
    "        # cfg1 = read(l1.split()[1] + '/OUTCAR')\n",
    "#         dscrptr_ace = compute_B_projections(basis, atomic_env_list=[cfg1])\n",
    "#         ace_list += list(dscrptr_ace[0])"
   ]
  },
  {
   "cell_type": "code",
   "execution_count": 20,
   "id": "c9f284cc",
   "metadata": {},
   "outputs": [
    {
     "data": {
      "text/plain": [
       "(12220, 1994)"
      ]
     },
     "execution_count": 20,
     "metadata": {},
     "output_type": "execute_result"
    }
   ],
   "source": [
    "descriptor_ace = descriptor_ace_dict[0]\n",
    "descriptor_ace.shape"
   ]
  },
  {
   "cell_type": "code",
   "execution_count": 21,
   "id": "29e24381",
   "metadata": {},
   "outputs": [
    {
     "name": "stdout",
     "output_type": "stream",
     "text": [
      "8.468691558908088\n",
      "9.184509909335528\n"
     ]
    }
   ],
   "source": [
    "from quests.descriptor import get_descriptors\n",
    "from quests.entropy import perfect_entropy, diversity\n",
    "\n",
    "h = 0.015\n",
    "batch_size = 10000\n",
    "H = perfect_entropy(descriptor_ace, h=h, batch_size=batch_size)\n",
    "D = diversity(descriptor_ace, h=h, batch_size=batch_size)\n",
    "print(H)\n",
    "print(D)"
   ]
  },
  {
   "cell_type": "code",
   "execution_count": 70,
   "id": "97130733",
   "metadata": {},
   "outputs": [],
   "source": [
    "np.savetxt('graphite_ace.txt', descriptor_ace, delimiter=' ')"
   ]
  }
 ],
 "metadata": {
  "kernelspec": {
   "display_name": "quests_py311",
   "language": "python",
   "name": "python3"
  },
  "language_info": {
   "codemirror_mode": {
    "name": "ipython",
    "version": 3
   },
   "file_extension": ".py",
   "mimetype": "text/x-python",
   "name": "python",
   "nbconvert_exporter": "python",
   "pygments_lexer": "ipython3",
   "version": "3.11.13"
  }
 },
 "nbformat": 4,
 "nbformat_minor": 5
}
