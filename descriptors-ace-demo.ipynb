{
 "cells": [
  {
   "cell_type": "code",
   "execution_count": 6,
   "id": "f1da6005",
   "metadata": {},
   "outputs": [],
   "source": [
    "import numpy as np\n",
    "\n",
    "from ase import Atoms\n",
    "from ase.io import read, write\n",
    "\n",
    "from pyace import create_multispecies_basis_config\n",
    "from pyace.activelearning import compute_B_projections"
   ]
  },
  {
   "cell_type": "code",
   "execution_count": 7,
   "id": "cce5cebf",
   "metadata": {},
   "outputs": [],
   "source": [
    "basis_config = {\n",
    "  \"deltaSplineBins\": 0.001,\n",
    "  \"elements\": ['C'],\n",
    "\n",
    "  \"embeddings\": {\n",
    "    \"ALL\": {\n",
    "      \"npot\": 'FinnisSinclairShiftedScaled', # ?\n",
    "      \"fs_parameters\": [ 1, 1],\n",
    "      \"ndensity\": 1, # ?\n",
    "    },\n",
    "  },\n",
    "\n",
    "  \"bonds\": {\n",
    "    \"ALL\": {\n",
    "      \"radbase\": \"SBessel\",\n",
    "      \"radparameters\": [ 5.25 ],\n",
    "      \"rcut\": 6, # ?\n",
    "      \"dcut\": 0.01, # ?\n",
    "    }\n",
    "  },\n",
    "\n",
    "  \"functions\": {\n",
    "    # \"number_of_functions_per_element\": 1000,\n",
    "    \"ALL\": {\n",
    "        \"nradmax_by_orders\": [ 8,8,6],\n",
    "        \"lmax_by_orders\"   : [ 0,6,4] }\n",
    "  }\n",
    "}"
   ]
  },
  {
   "cell_type": "code",
   "execution_count": 8,
   "id": "6eb78d68",
   "metadata": {},
   "outputs": [
    {
     "data": {
      "text/plain": [
       "BBasisConfiguration(deltaSplineBins=0.001, funcspecs_blocks=['C', ])"
      ]
     },
     "execution_count": 8,
     "metadata": {},
     "output_type": "execute_result"
    }
   ],
   "source": [
    "basis = create_multispecies_basis_config(basis_config)\n",
    "basis"
   ]
  },
  {
   "cell_type": "markdown",
   "id": "4dd481be",
   "metadata": {},
   "source": [
    "### Compute entropy"
   ]
  },
  {
   "cell_type": "code",
   "execution_count": 9,
   "id": "dc586eb8",
   "metadata": {},
   "outputs": [
    {
     "data": {
      "text/plain": [
       "{0: array([[ 5.30699625,  4.87772161,  4.63383655, ...,  0.06639799,\n",
       "          0.03726733, -0.00743433],\n",
       "        [ 5.30169047,  4.8585322 ,  4.57873826, ...,  4.82295864,\n",
       "          0.13828475, -5.12933646],\n",
       "        [ 5.30288263,  4.85515545,  4.57593924, ...,  4.78332148,\n",
       "          0.13571487, -5.0994087 ],\n",
       "        ...,\n",
       "        [ 4.20097867,  1.80477498,  1.07852852, ..., -0.08517027,\n",
       "         -0.71969204,  1.91552557],\n",
       "        [ 4.20097867,  1.80477498,  1.07852852, ..., -0.08517027,\n",
       "         -0.71969204,  1.91552557],\n",
       "        [ 4.20097867,  1.80477498,  1.07852852, ..., -0.08517027,\n",
       "         -0.71969204,  1.91552557]])}"
      ]
     },
     "execution_count": 9,
     "metadata": {},
     "output_type": "execute_result"
    }
   ],
   "source": [
    "data_name = \"Graphite\"\n",
    "# data_name = \"Diamond\"\n",
    "# data_name = \"Graphene\"\n",
    "# data_name = \"Nanotubes\"\n",
    "path = f\"/home/evere/dev/quests/examples/gap20/{data_name}.xyz\"\n",
    "frames_list = read(path, index=\":\")\n",
    "descriptor_ace_dict = compute_B_projections(basis, frames_list)\n",
    "descriptor_ace_dict\n",
    "\n",
    "# path = /p/lustre2/samanta1/Cu/step10_PotFit/test1/list20.txt\n",
    "# with open(path) as f1:\n",
    "#     for l1 in f1.readlines():\n",
    "        # cfg1 = read(l1.split()[1] + '/OUTCAR')\n",
    "#         dscrptr_ace = compute_B_projections(basis, atomic_env_list=[cfg1])\n",
    "#         ace_list += list(dscrptr_ace[0])"
   ]
  },
  {
   "cell_type": "code",
   "execution_count": 10,
   "id": "c9f284cc",
   "metadata": {},
   "outputs": [
    {
     "data": {
      "text/plain": [
       "160"
      ]
     },
     "execution_count": 10,
     "metadata": {},
     "output_type": "execute_result"
    }
   ],
   "source": [
    "descriptor_ace = descriptor_ace_dict[0]\n",
    "descriptor_ace.shape\n",
    "len(frames_list)"
   ]
  },
  {
   "cell_type": "code",
   "execution_count": null,
   "id": "29e24381",
   "metadata": {},
   "outputs": [
    {
     "name": "stdout",
     "output_type": "stream",
     "text": [
      "2.0558518468455733\n",
      "2.231900011578892\n"
     ]
    }
   ],
   "source": [
    "from quests.entropy import perfect_entropy, diversity\n",
    "\n",
    "# h = 0.015\n",
    "# h = 24.734\n",
    "# h = 25.0\n",
    "h = 95.45151481768947\n",
    "batch_size = 10000\n",
    "H = perfect_entropy(descriptor_ace, h=h, batch_size=batch_size)\n",
    "D = diversity(descriptor_ace, h=h, batch_size=batch_size)\n",
    "print(H)\n",
    "print(D)"
   ]
  },
  {
   "cell_type": "markdown",
   "id": "957e6489",
   "metadata": {},
   "source": [
    "### Compute entropy with cross-validation"
   ]
  },
  {
   "cell_type": "code",
   "execution_count": null,
   "id": "6502dd4e",
   "metadata": {},
   "outputs": [],
   "source": [
    "data_name = \"Graphite\"\n",
    "path = f\"/home/evere/dev/quests/examples/gap20/{data_name}.xyz\"\n",
    "frames_list = read(path, index=\":\")\n",
    "frame_indices = list(range(len(frames_list)))"
   ]
  },
  {
   "cell_type": "code",
   "execution_count": null,
   "id": "2f880945",
   "metadata": {},
   "outputs": [],
   "source": [
    "from sklearn.model_selection import KFold\n",
    "from quests.entropy import perfect_entropy, diversity\n",
    "\n",
    "kf = KFold(n_splits=30, shuffle=True, random_state=0)\n",
    "kf.get_n_splits(frame_indices)\n",
    "\n",
    "h = 25.0\n",
    "batch_size = 10000\n",
    "\n",
    "i = 0\n",
    "for train_frame_idx, test_frame_idx in kf.split(frame_indices):\n",
    "    print(\"train\")\n",
    "    print(train_frame_idx)\n",
    "    print(\"test\")\n",
    "    print(test_frame_idx)\n",
    "    atoms_train = [frames_list[i] for i in train_frame_idx]\n",
    "    atoms_test = [frames_list[i] for i in test_frame_idx]\n",
    "\n",
    "    descriptors_train = compute_B_projections(basis, atoms_train)[0]\n",
    "    descriptors_test = compute_B_projections(basis, atoms_test)[0]\n",
    "\n",
    "    H = perfect_entropy(descriptors_train, h=h, batch_size=batch_size)\n",
    "    D = diversity(descriptors_train, h=h, batch_size=batch_size)\n",
    "    print(f\"Fold {i} train\")\n",
    "    print(H)\n",
    "    print(D)\n",
    "\n",
    "    H = perfect_entropy(descriptors_test, h=h, batch_size=batch_size)\n",
    "    D = diversity(descriptors_test, h=h, batch_size=batch_size)\n",
    "    print(f\"Fold {i} test\")\n",
    "    print(H)\n",
    "    print(D)\n",
    "\n",
    "    i += 1"
   ]
  }
 ],
 "metadata": {
  "kernelspec": {
   "display_name": "quests_py311",
   "language": "python",
   "name": "python3"
  },
  "language_info": {
   "codemirror_mode": {
    "name": "ipython",
    "version": 3
   },
   "file_extension": ".py",
   "mimetype": "text/x-python",
   "name": "python",
   "nbconvert_exporter": "python",
   "pygments_lexer": "ipython3",
   "version": "3.11.13"
  }
 },
 "nbformat": 4,
 "nbformat_minor": 5
}
